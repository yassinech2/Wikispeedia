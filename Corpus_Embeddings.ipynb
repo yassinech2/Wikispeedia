{
 "cells": [
  {
   "cell_type": "code",
   "execution_count": 7,
   "id": "217bc661",
   "metadata": {},
   "outputs": [],
   "source": [
    "from sentence_transformers import SentenceTransformer\n",
    "import os, glob\n",
    "import pandas as pd\n",
    "from nltk.corpus import stopwords\n",
    "from nltk.tokenize import word_tokenize\n",
    "import string as st\n",
    "import pickle"
   ]
  },
  {
   "cell_type": "code",
   "execution_count": 8,
   "id": "6495db1b",
   "metadata": {},
   "outputs": [],
   "source": [
    "PATH_TO_DOCUMENTS = './/data//plaintext_articles//'\n",
    "document_mapper = pd.DataFrame(os.listdir('.//data//plaintext_articles'),columns=['file_name'])"
   ]
  },
  {
   "cell_type": "code",
   "execution_count": 9,
   "id": "9ff7ec1a",
   "metadata": {},
   "outputs": [],
   "source": [
    "def load_file(filename: str) -> str:\n",
    "    with open(f\"{PATH_TO_DOCUMENTS}{filename}\", \"r\", encoding=\"utf-8\") as f:\n",
    "        return f.read()\n",
    "    \n",
    "document_mapper[\"docs\"] = document_mapper[\"file_name\"].apply(load_file)\n",
    "\n",
    "#removing \".txt\" from file_name\n",
    "document_mapper[\"file_name\"] = document_mapper[\"file_name\"].apply(lambda x : x[:-4])"
   ]
  },
  {
   "cell_type": "code",
   "execution_count": 40,
   "id": "bccb7997",
   "metadata": {},
   "outputs": [],
   "source": [
    "def clean_text(document : str) -> str :\n",
    "    tokens = word_tokenize(document)\n",
    "    # convert to lower case\n",
    "    tokens = [w.lower() for w in tokens]\n",
    "    # remove punctuation from each word\n",
    "    table = str.maketrans('', '', st.punctuation)\n",
    "    stripped = [w.translate(table) for w in tokens]\n",
    "    # filter out stop words\n",
    "    stop_words = set(stopwords.words('english'))\n",
    "    words = [w for w in stripped if not w in stop_words]\n",
    "    return (\" \").join(words)"
   ]
  },
  {
   "cell_type": "code",
   "execution_count": 122,
   "id": "bbff8af6",
   "metadata": {},
   "outputs": [],
   "source": [
    "document_mapper['clean_text'] = document_mapper['docs'].apply(clean_text)"
   ]
  },
  {
   "cell_type": "code",
   "execution_count": 149,
   "id": "8ac10a69",
   "metadata": {},
   "outputs": [
    {
     "name": "stdout",
     "output_type": "stream",
     "text": [
      "Max Sequence Length: 512\n"
     ]
    }
   ],
   "source": [
    "encoding_model = SentenceTransformer('all-MiniLM-L12-v2')\n",
    "encoding_model.max_seq_length = 512\n",
    "print(\"Max Sequence Length:\", encoding_model.max_seq_length)"
   ]
  },
  {
   "cell_type": "code",
   "execution_count": 152,
   "id": "8a668365",
   "metadata": {},
   "outputs": [
    {
     "data": {
      "application/vnd.jupyter.widget-view+json": {
       "model_id": "dde7254dc9e54e8ea6b7a8923419494b",
       "version_major": 2,
       "version_minor": 0
      },
      "text/plain": [
       "Batches:   0%|          | 0/144 [00:00<?, ?it/s]"
      ]
     },
     "metadata": {},
     "output_type": "display_data"
    }
   ],
   "source": [
    "embeddings = encoding_model.encode(document_mapper['clean_text'].tolist(),show_progress_bar=True)\n",
    "document_mapper['embeddings'] = embeddings.tolist()\n",
    "document_mapper.to_pickle('embeddings.pkl')"
   ]
  }
 ],
 "metadata": {
  "kernelspec": {
   "display_name": "Python 3 (ipykernel)",
   "language": "python",
   "name": "python3"
  },
  "language_info": {
   "codemirror_mode": {
    "name": "ipython",
    "version": 3
   },
   "file_extension": ".py",
   "mimetype": "text/x-python",
   "name": "python",
   "nbconvert_exporter": "python",
   "pygments_lexer": "ipython3",
   "version": "3.9.12"
  }
 },
 "nbformat": 4,
 "nbformat_minor": 5
}
